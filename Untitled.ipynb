{
 "cells": [
  {
   "cell_type": "raw",
   "metadata": {},
   "source": [
    "def total_weight(items_list):\n",
    "    total= 0\n",
    "    for item in items_list:\n",
    "            sum += item[\"weight\"]\n",
    "        return total"
   ]
  },
  {
   "cell_type": "raw",
   "metadata": {},
   "source": [
    "def total_weight(items_list):\n",
    "    total= 0\n",
    "    for item in items_list:\n",
    "            sum += item[\"weight\"]\n",
    "        return total\n",
    "    \n"
   ]
  },
  {
   "cell_type": "markdown",
   "metadata": {},
   "source": [
    "\n",
    "The convention in object oriented programming as well as \n",
    "funtional programmings is that CONSTANTS (variables that \n",
    "never change) are written in \"UPPER CASE\". Another convention unique to opp is \"proper case\"(first letter only is capitalized)"
   ]
  },
  {
   "cell_type": "code",
   "execution_count": 16,
   "metadata": {},
   "outputs": [
    {
     "ename": "IndentationError",
     "evalue": "unexpected indent (<ipython-input-16-91a70ad84962>, line 7)",
     "output_type": "error",
     "traceback": [
      "\u001b[1;36m  File \u001b[1;32m\"<ipython-input-16-91a70ad84962>\"\u001b[1;36m, line \u001b[1;32m7\u001b[0m\n\u001b[1;33m    self.name = name\u001b[0m\n\u001b[1;37m    ^\u001b[0m\n\u001b[1;31mIndentationError\u001b[0m\u001b[1;31m:\u001b[0m unexpected indent\n"
     ]
    }
   ],
   "source": [
    "#we define our class (blueprint) with two properties\n",
    "class Back_Pack():\n",
    "    MAX_WEIGHT = 15\n",
    "\n",
    "    MAX_SIZE = 4\n",
    "    items = []\n",
    "        self.name = name\n",
    "        self.weight = weight\n",
    "        self.size = size #we asign the value of size to self .\n",
    "       \n",
    "    \n",
    "    "
   ]
  },
  {
   "cell_type": "code",
   "execution_count": null,
   "metadata": {
    "collapsed": true
   },
   "outputs": [],
   "source": [
    "#we instantiate a new object using the Back_Pack class\n",
    "my_back_pack = Back_Pack()\n",
    "print(my_back_pack.MAX_WEIGHT)"
   ]
  },
  {
   "cell_type": "code",
   "execution_count": null,
   "metadata": {
    "collapsed": true
   },
   "outputs": [],
   "source": [
    "my_back_pack.items.append(\"frog\")\n",
    "my_back_pack.items.append(\"mouse\")\n",
    "my_back_pack.items.append(\"elephant\")\n"
   ]
  },
  {
   "cell_type": "code",
   "execution_count": null,
   "metadata": {
    "collapsed": true
   },
   "outputs": [],
   "source": [
    "print(my_back_pack.items)"
   ]
  },
  {
   "cell_type": "code",
   "execution_count": null,
   "metadata": {
    "collapsed": true
   },
   "outputs": [],
   "source": [
    "my_back_pack.items.append(\"water_bottle\")\n",
    "my_back_pack.items.append(\"shoes\")\n",
    "my_back_pack.items.append(\"sunsreen\")\n",
    "my_back_pack.items.append(\"slippers\")\n",
    "my_back_pack.items.append(\"phone\")\n"
   ]
  },
  {
   "cell_type": "code",
   "execution_count": null,
   "metadata": {
    "collapsed": true
   },
   "outputs": [],
   "source": [
    "print(my_back_pack.items)"
   ]
  },
  {
   "cell_type": "code",
   "execution_count": null,
   "metadata": {
    "collapsed": true
   },
   "outputs": [],
   "source": [
    "frog = 1\n",
    "mouse = 1 \n",
    "elephant = 1\n",
    "water_bottle = 1\n",
    "shoes = 1\n",
    "sunscreen = 1\n",
    "slippers = 1\n",
    "phone = 1"
   ]
  },
  {
   "cell_type": "markdown",
   "metadata": {},
   "source": []
  },
  {
   "cell_type": "markdown",
   "metadata": {},
   "source": [
    "**initialize** = get ready a value for the first time  \n",
    "\n",
    "**instantiate** = to create (e.g. an object)"
   ]
  },
  {
   "cell_type": "code",
   "execution_count": null,
   "metadata": {
    "collapsed": true
   },
   "outputs": [],
   "source": []
  },
  {
   "cell_type": "code",
   "execution_count": null,
   "metadata": {
    "collapsed": true
   },
   "outputs": [],
   "source": [
    "# i instantiate my first trip item, giving it a name \n",
    "# of \"Shoes \", a weight of 1 and a size of 0.5\n",
    "trip_item_1 = Trip_Item(\"shoes\", 1, 0.5)\n",
    "\n",
    "print(trip_item_1.name)\n",
    "print(trip_item_1.weight)\n",
    "print(trip_item_1.size)"
   ]
  },
  {
   "cell_type": "code",
   "execution_count": null,
   "metadata": {
    "collapsed": true
   },
   "outputs": [],
   "source": [
    "#instantiate some new objects\n",
    "trip_item_2 = Trip_Item(\"sunscreen\", 1, 0.6)\n",
    "trip_item_3 = Trip_Item(\"water_bottle\", 0.5, 0.5)\n",
    "trip_item_4 = Trip_Item(\"phone\", 1.5, 0.8)\n",
    "trip_item_5 = Trip_Item(\"slippers\", 1.1, 0.2)\n",
    "trip_item_6 = Trip_Item(\"frog\", 1.1, 0.1)\n",
    "trip_item_7 = Trip_Item(\"elephant\", 0.6, 0.5)\n",
    "trip_item_8 = Trip_Item(\"pant\", 0.4, 0.9)\n",
    "trip_item_9 = Trip_Item(\"t_shirt\", 1.1, 0.65)"
   ]
  },
  {
   "cell_type": "code",
   "execution_count": null,
   "metadata": {
    "collapsed": true
   },
   "outputs": [],
   "source": [
    "print(my_back_pack.items)"
   ]
  },
  {
   "cell_type": "markdown",
   "metadata": {},
   "source": [
    "trip_item =[trip_item_1, trip_item_2, trip_item_3, trip_item_4, trip_item_5, trip_item_6, trip_item_7, trip_item_8, trip_item_9]"
   ]
  },
  {
   "cell_type": "code",
   "execution_count": null,
   "metadata": {
    "collapsed": true
   },
   "outputs": [],
   "source": [
    "#  put all the items in the back-pack\n",
    "for item in trip_item:\n",
    "    my_back_pack.items.append(item)"
   ]
  },
  {
   "cell_type": "code",
   "execution_count": null,
   "metadata": {
    "collapsed": true
   },
   "outputs": [],
   "source": [
    "#this code below doesn't give human readable output\n",
    "print(my_back_pack.items)"
   ]
  },
  {
   "cell_type": "code",
   "execution_count": 17,
   "metadata": {},
   "outputs": [
    {
     "name": "stdout",
     "output_type": "stream",
     "text": [
      "frog\n"
     ]
    }
   ],
   "source": [
    "print(my_back_pack.items[0])"
   ]
  },
  {
   "cell_type": "code",
   "execution_count": 18,
   "metadata": {},
   "outputs": [
    {
     "name": "stdout",
     "output_type": "stream",
     "text": [
      "mouse\n"
     ]
    }
   ],
   "source": [
    "print(my_back_pack.items[1])"
   ]
  },
  {
   "cell_type": "code",
   "execution_count": null,
   "metadata": {
    "collapsed": true
   },
   "outputs": [],
   "source": []
  },
  {
   "cell_type": "code",
   "execution_count": null,
   "metadata": {
    "collapsed": true
   },
   "outputs": [],
   "source": []
  }
 ],
 "metadata": {
  "kernelspec": {
   "display_name": "Python 3",
   "language": "python",
   "name": "python3"
  },
  "language_info": {
   "codemirror_mode": {
    "name": "ipython",
    "version": 3
   },
   "file_extension": ".py",
   "mimetype": "text/x-python",
   "name": "python",
   "nbconvert_exporter": "python",
   "pygments_lexer": "ipython3",
   "version": "3.6.3"
  }
 },
 "nbformat": 4,
 "nbformat_minor": 2
}
